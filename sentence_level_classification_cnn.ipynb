{
 "cells": [
  {
   "cell_type": "markdown",
   "metadata": {},
   "source": [
    "# Multi-Class Sentence Classification using CNN\n",
    "\n",
    "Trained a **1-D Convolutional Neural Network** for the task of sequence classification on the dataset available here: https://github.com/AcademiaSinicaNLPLab/sentiment_dataset \n",
    "\n",
    "Used **TREC question dataset**, which involves classifying a question into 6 question types (whether the question is about person, location, numeric information, etc.)"
   ]
  },
  {
   "cell_type": "code",
   "execution_count": 217,
   "metadata": {},
   "outputs": [],
   "source": [
    "import pandas as pd\n",
    "import keras\n",
    "from keras.preprocessing import sequence\n",
    "from keras.preprocessing.text import Tokenizer\n",
    "from keras.utils import to_categorical\n",
    "from keras.models import Sequential\n",
    "from keras.layers import Embedding, Dense, Dropout, Activation, Conv1D, GlobalMaxPooling1D\n",
    "from keras.regularizers import l2\n",
    "import matplotlib.pyplot as plt\n",
    "%matplotlib inline"
   ]
  },
  {
   "cell_type": "code",
   "execution_count": 225,
   "metadata": {},
   "outputs": [],
   "source": [
    "corpus = pd.read_pickle('./sentiment_dataset/TREC.pkl')\n",
    "sentences, labels = list(corpus.sentence), list(corpus.label)"
   ]
  },
  {
   "cell_type": "code",
   "execution_count": 361,
   "metadata": {
    "collapsed": true
   },
   "outputs": [],
   "source": [
    "#set params\n",
    "vocab_dictionary = 1500\n",
    "max_seq_len = 20\n",
    "embedding_size = 300\n",
    "batch_size = 64\n",
    "epochs = 10\n",
    "filter_size = 3\n",
    "filters = 250\n",
    "hidden_dims = 256"
   ]
  },
  {
   "cell_type": "code",
   "execution_count": 362,
   "metadata": {},
   "outputs": [
    {
     "name": "stdout",
     "output_type": "stream",
     "text": [
      "(5952, 20)\n",
      "(5952, 6)\n"
     ]
    }
   ],
   "source": [
    "#preprocessing\n",
    "token = Tokenizer(num_words=vocab_dictionary)\n",
    "token.fit_on_texts(sentences)\n",
    "x = token.texts_to_sequences(sentences)\n",
    "x = sequence.pad_sequences(x, maxlen=max_seq_len)\n",
    "y = to_categorical(labels)\n",
    "print(x.shape)\n",
    "print(y.shape)"
   ]
  },
  {
   "cell_type": "code",
   "execution_count": 363,
   "metadata": {},
   "outputs": [],
   "source": [
    "#buiding model\n",
    "model = Sequential()\n",
    "\n",
    "model.add(Embedding(input_dim=vocab_dictionary,\n",
    "                    output_dim=embedding_size,\n",
    "                   input_length=max_seq_len))\n",
    "\n",
    "model.add(Dropout(0.2))\n",
    "\n",
    "model.add(Conv1D(filters=filters,\n",
    "                kernel_size=filter_size,\n",
    "                strides=1,\n",
    "                padding='valid',\n",
    "                activation='relu'))\n",
    "\n",
    "model.add(GlobalMaxPooling1D())\n",
    "\n",
    "model.add(Dense(units=hidden_dims,\n",
    "               activation='relu',\n",
    "               kernel_regularizer=l2(0.2)))\n",
    "\n",
    "model.add(Dropout(0.2))\n",
    "\n",
    "model.add(Dense(units=6,\n",
    "               activation='softmax'))"
   ]
  },
  {
   "cell_type": "code",
   "execution_count": 364,
   "metadata": {},
   "outputs": [
    {
     "name": "stdout",
     "output_type": "stream",
     "text": [
      "_________________________________________________________________\n",
      "Layer (type)                 Output Shape              Param #   \n",
      "=================================================================\n",
      "embedding_49 (Embedding)     (None, 20, 300)           450000    \n",
      "_________________________________________________________________\n",
      "dropout_114 (Dropout)        (None, 20, 300)           0         \n",
      "_________________________________________________________________\n",
      "conv1d_49 (Conv1D)           (None, 18, 250)           225250    \n",
      "_________________________________________________________________\n",
      "global_max_pooling1d_23 (Glo (None, 250)               0         \n",
      "_________________________________________________________________\n",
      "dense_97 (Dense)             (None, 256)               64256     \n",
      "_________________________________________________________________\n",
      "dropout_115 (Dropout)        (None, 256)               0         \n",
      "_________________________________________________________________\n",
      "dense_98 (Dense)             (None, 6)                 1542      \n",
      "=================================================================\n",
      "Total params: 741,048\n",
      "Trainable params: 741,048\n",
      "Non-trainable params: 0\n",
      "_________________________________________________________________\n",
      "None\n"
     ]
    }
   ],
   "source": [
    "#compile model\n",
    "model.compile(loss='categorical_crossentropy',\n",
    "             optimizer='adam',\n",
    "             metrics=['accuracy'])\n",
    "print(model.summary())"
   ]
  },
  {
   "cell_type": "code",
   "execution_count": 365,
   "metadata": {},
   "outputs": [
    {
     "name": "stdout",
     "output_type": "stream",
     "text": [
      "Train on 4761 samples, validate on 1191 samples\n",
      "Epoch 1/10\n",
      "4761/4761 [==============================] - 7s 1ms/step - loss: 21.5103 - acc: 0.4890 - val_loss: 5.0515 - val_acc: 0.6599\n",
      "Epoch 2/10\n",
      "4761/4761 [==============================] - 5s 1ms/step - loss: 2.1518 - acc: 0.7316 - val_loss: 0.9746 - val_acc: 0.7531\n",
      "Epoch 3/10\n",
      "4761/4761 [==============================] - 5s 1ms/step - loss: 0.6992 - acc: 0.8276 - val_loss: 0.6927 - val_acc: 0.7918\n",
      "Epoch 4/10\n",
      "4761/4761 [==============================] - 5s 1ms/step - loss: 0.4944 - acc: 0.8820 - val_loss: 0.6481 - val_acc: 0.8010\n",
      "Epoch 5/10\n",
      "4761/4761 [==============================] - 5s 1ms/step - loss: 0.4065 - acc: 0.9101 - val_loss: 0.6380 - val_acc: 0.8111\n",
      "Epoch 6/10\n",
      "4761/4761 [==============================] - 5s 1ms/step - loss: 0.3379 - acc: 0.9301 - val_loss: 0.6362 - val_acc: 0.8212\n",
      "Epoch 7/10\n",
      "4761/4761 [==============================] - 5s 1ms/step - loss: 0.3163 - acc: 0.9376 - val_loss: 0.6061 - val_acc: 0.8304\n",
      "Epoch 8/10\n",
      "4761/4761 [==============================] - 6s 1ms/step - loss: 0.2680 - acc: 0.9519 - val_loss: 0.6376 - val_acc: 0.8178\n",
      "Epoch 9/10\n",
      "4761/4761 [==============================] - 5s 1ms/step - loss: 0.2398 - acc: 0.9536 - val_loss: 0.6870 - val_acc: 0.8212\n",
      "Epoch 10/10\n",
      "4761/4761 [==============================] - 5s 1ms/step - loss: 0.2250 - acc: 0.9582 - val_loss: 0.7358 - val_acc: 0.8178\n"
     ]
    }
   ],
   "source": [
    "#model fitting\n",
    "history = model.fit(x, y,\n",
    "                    batch_size=batch_size,\n",
    "                    epochs=epochs,\n",
    "                    validation_split=0.2)"
   ]
  },
  {
   "cell_type": "code",
   "execution_count": 366,
   "metadata": {},
   "outputs": [
    {
     "data": {
      "text/plain": [
       "Text(0.5,1,'Train vs Validation Loss')"
      ]
     },
     "execution_count": 366,
     "metadata": {},
     "output_type": "execute_result"
    },
    {
     "data": {
      "image/png": "[encoded data removed]",
      "text/plain": [
       "<Figure size 432x288 with 1 Axes>"
      ]
     },
     "metadata": {},
     "output_type": "display_data"
    }
   ],
   "source": [
    "plt.plot(history.history['loss'])\n",
    "plt.plot(history.history['val_loss'])\n",
    "plt.xlabel('epochs')\n",
    "plt.ylabel('model loss')\n",
    "plt.legend(['train set', 'validation set'], loc='best')\n",
    "plt.title('Train vs Validation Loss')"
   ]
  },
  {
   "cell_type": "code",
   "execution_count": 367,
   "metadata": {},
   "outputs": [
    {
     "data": {
      "text/plain": [
       "Text(0.5,1,'Train vs Validation Accuracy')"
      ]
     },
     "execution_count": 367,
     "metadata": {},
     "output_type": "execute_result"
    },
    {
     "data": {
      "image/png": "[encoded data removed]",
      "text/plain": [
       "<Figure size 432x288 with 1 Axes>"
      ]
     },
     "metadata": {},
     "output_type": "display_data"
    }
   ],
   "source": [
    "plt.plot(history.history['acc'])\n",
    "plt.plot(history.history['val_acc'])\n",
    "plt.xlabel('epochs')\n",
    "plt.ylabel('model accuracy')\n",
    "plt.legend(['train set', 'validation set'], loc='best')\n",
    "plt.title('Train vs Validation Accuracy')"
   ]
  },
  {
   "cell_type": "code",
   "execution_count": null,
   "metadata": {
    "collapsed": true
   },
   "outputs": [],
   "source": []
  }
 ],
 "metadata": {
  "kernelspec": {
   "display_name": "Python 3",
   "language": "python",
   "name": "python3"
  },
  "language_info": {
   "codemirror_mode": {
    "name": "ipython",
    "version": 3
   },
   "file_extension": ".py",
   "mimetype": "text/x-python",
   "name": "python",
   "nbconvert_exporter": "python",
   "pygments_lexer": "ipython3",
   "version": "3.5.4"
  }
 },
 "nbformat": 4,
 "nbformat_minor": 2
}
