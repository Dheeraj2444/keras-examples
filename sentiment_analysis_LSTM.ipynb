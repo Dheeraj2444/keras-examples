{
 "cells": [
  {
   "cell_type": "markdown",
   "metadata": {},
   "source": [
    "# Sentiment Analysis using LSTM in Keras\n",
    "\n",
    "## Dataset\n",
    "IMDB has 50000 movie reviews with labels: 'positive' and 'negative'. Here, we would train a LSTM model to predict the associated sentiment (binary class classification)."
   ]
  },
  {
   "cell_type": "code",
   "execution_count": 23,
   "metadata": {
    "collapsed": true
   },
   "outputs": [],
   "source": [
    "#import libraries\n",
    "import numpy as np\n",
    "from keras.datasets import imdb\n",
    "from keras.models import Sequential\n",
    "from keras.layers import Dense, LSTM, Dropout\n",
    "from keras.layers.embeddings import Embedding\n",
    "from keras.preprocessing import sequence\n",
    "from keras import regularizers\n",
    "import matplotlib.pyplot as plt\n",
    "%matplotlib inline"
   ]
  },
  {
   "cell_type": "code",
   "execution_count": 2,
   "metadata": {
    "collapsed": true
   },
   "outputs": [],
   "source": [
    "#loading dataset\n",
    "np.random.seed(1)\n",
    "vocabulary_len = 10000\n",
    "(x_train, y_train), (x_test, y_test) = imdb.load_data(num_words=vocabulary_len)"
   ]
  },
  {
   "cell_type": "code",
   "execution_count": 3,
   "metadata": {
    "collapsed": true
   },
   "outputs": [],
   "source": [
    "'''\n",
    "pre proceesing sequence length: this would truncate begining words if the length of a review is greater than maximum \n",
    "sequence length. If the review length is less than maximum sequence length then it would perform zero padding\n",
    "in the begining\n",
    "'''\n",
    "max_sequence_len = 100 \n",
    "x_train = sequence.pad_sequences(x_train, maxlen=max_sequence_len)\n",
    "x_test = sequence.pad_sequences(x_test, maxlen=max_sequence_len)"
   ]
  },
  {
   "cell_type": "code",
   "execution_count": 51,
   "metadata": {
    "collapsed": true
   },
   "outputs": [],
   "source": [
    "#defining model architecture\n",
    "embedding_vector_len = 300\n",
    "model = Sequential()\n",
    "model.add(Embedding(input_dim=vocabulary_len, output_dim=embedding_vector_len, input_length=max_sequence_len))\n",
    "model.add(LSTM(units=50, dropout=0.5, recurrent_dropout=0.6, kernel_regularizer=regularizers.l2(0.4)))\n",
    "model.add(Dense(units=1, activation='sigmoid'))"
   ]
  },
  {
   "cell_type": "code",
   "execution_count": 52,
   "metadata": {
    "collapsed": true
   },
   "outputs": [],
   "source": [
    "#compiling model\n",
    "model.compile(loss='binary_crossentropy', optimizer='adam', metrics=['accuracy'])"
   ]
  },
  {
   "cell_type": "code",
   "execution_count": 53,
   "metadata": {},
   "outputs": [
    {
     "name": "stdout",
     "output_type": "stream",
     "text": [
      "Train on 25000 samples, validate on 25000 samples\n",
      "Epoch 1/5\n",
      "25000/25000 [==============================] - 172s 7ms/step - loss: 4.5550 - acc: 0.5324 - val_loss: 0.6901 - val_acc: 0.6863\n",
      "Epoch 2/5\n",
      "25000/25000 [==============================] - 178s 7ms/step - loss: 0.6272 - acc: 0.7238 - val_loss: 0.5270 - val_acc: 0.7797\n",
      "Epoch 3/5\n",
      "25000/25000 [==============================] - 178s 7ms/step - loss: 0.5150 - acc: 0.8004 - val_loss: 0.5217 - val_acc: 0.7728\n",
      "Epoch 4/5\n",
      "25000/25000 [==============================] - 176s 7ms/step - loss: 0.4541 - acc: 0.8308 - val_loss: 0.5242 - val_acc: 0.7680\n",
      "Epoch 5/5\n",
      "25000/25000 [==============================] - 176s 7ms/step - loss: 0.4289 - acc: 0.8460 - val_loss: 0.5537 - val_acc: 0.7770\n"
     ]
    }
   ],
   "source": [
    "#model fitting\n",
    "history = model.fit(x_train, y_train, validation_data=(x_test, y_test), epochs=5, batch_size=32)"
   ]
  },
  {
   "cell_type": "code",
   "execution_count": 54,
   "metadata": {},
   "outputs": [
    {
     "name": "stdout",
     "output_type": "stream",
     "text": [
      "dict_keys(['val_loss', 'acc', 'loss', 'val_acc'])\n"
     ]
    }
   ],
   "source": [
    "print(history.history.keys())"
   ]
  },
  {
   "cell_type": "code",
   "execution_count": 55,
   "metadata": {},
   "outputs": [
    {
     "data": {
      "text/plain": [
       "<matplotlib.text.Text at 0x14af43550>"
      ]
     },
     "execution_count": 55,
     "metadata": {},
     "output_type": "execute_result"
    },
    {
     "data": {
      "image/png": "[encoded data removed]",
      "text/plain": [
       "<matplotlib.figure.Figure at 0x14af1b898>"
      ]
     },
     "metadata": {},
     "output_type": "display_data"
    }
   ],
   "source": [
    "plt.plot(history.history['loss'])\n",
    "plt.plot(history.history['val_loss'])\n",
    "plt.xlabel('epochs')\n",
    "plt.ylabel('model loss')\n",
    "plt.legend(['train set', 'validation set'], loc='best')\n",
    "plt.title('Train vs Validation Loss')"
   ]
  },
  {
   "cell_type": "code",
   "execution_count": 57,
   "metadata": {},
   "outputs": [
    {
     "name": "stdout",
     "output_type": "stream",
     "text": [
      "25000/25000 [==============================] - 23s 938us/step\n",
      "Test Accuracy:  0.77704\n"
     ]
    }
   ],
   "source": [
    "#test set performance\n",
    "_, accuracy = model.evaluate(x_test, y_test)\n",
    "print(\"Test Accuracy: \", accuracy)"
   ]
  }
 ],
 "metadata": {
  "kernelspec": {
   "display_name": "Python 3",
   "language": "python",
   "name": "python3"
  },
  "language_info": {
   "codemirror_mode": {
    "name": "ipython",
    "version": 3
   },
   "file_extension": ".py",
   "mimetype": "text/x-python",
   "name": "python",
   "nbconvert_exporter": "python",
   "pygments_lexer": "ipython3",
   "version": "3.5.4"
  }
 },
 "nbformat": 4,
 "nbformat_minor": 2
}
