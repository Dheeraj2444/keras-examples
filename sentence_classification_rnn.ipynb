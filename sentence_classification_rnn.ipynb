{
 "cells": [
  {
   "cell_type": "markdown",
   "metadata": {},
   "source": [
    "# Sentence Classification using Stacked Bidirectional LSTM\n",
    "\n",
    "Trained a **Stacked Bidirectional LSTM Network** for the task of sequence classification on the dataset available here: https://github.com/AcademiaSinicaNLPLab/sentiment_dataset \n",
    "\n",
    "Used **TREC question dataset**, which involves classifying a question into 6 question types (whether the question is about person, location, numeric information, etc.)"
   ]
  },
  {
   "cell_type": "code",
   "execution_count": 31,
   "metadata": {},
   "outputs": [],
   "source": [
    "import pandas as pd\n",
    "import keras\n",
    "from keras.preprocessing import sequence\n",
    "from keras.preprocessing.text import Tokenizer\n",
    "from keras.utils import to_categorical\n",
    "from keras.models import Sequential\n",
    "from keras.layers import Embedding, Dense, Dropout, Activation, LSTM, Bidirectional\n",
    "from keras.regularizers import l2\n",
    "import matplotlib.pyplot as plt\n",
    "%matplotlib inline"
   ]
  },
  {
   "cell_type": "code",
   "execution_count": 3,
   "metadata": {
    "collapsed": true
   },
   "outputs": [],
   "source": [
    "corpus = pd.read_pickle('./sentiment_dataset/TREC.pkl')\n",
    "sentences, labels = list(corpus.sentence), list(corpus.label)"
   ]
  },
  {
   "cell_type": "code",
   "execution_count": 130,
   "metadata": {
    "collapsed": true
   },
   "outputs": [],
   "source": [
    "#set params\n",
    "vocab_dictionary = 1000\n",
    "max_seq_len = 20\n",
    "embedding_size = 300\n",
    "batch_size = 64\n",
    "epochs = 10\n",
    "hidden_dims = 20"
   ]
  },
  {
   "cell_type": "code",
   "execution_count": 131,
   "metadata": {},
   "outputs": [
    {
     "name": "stdout",
     "output_type": "stream",
     "text": [
      "(5952, 20)\n",
      "(5952, 6)\n"
     ]
    }
   ],
   "source": [
    "#preprocessing\n",
    "token = Tokenizer(num_words=vocab_dictionary)\n",
    "token.fit_on_texts(sentences)\n",
    "x = token.texts_to_sequences(sentences)\n",
    "x = sequence.pad_sequences(x, maxlen=max_seq_len)\n",
    "y = to_categorical(labels)\n",
    "print(x.shape)\n",
    "print(y.shape)"
   ]
  },
  {
   "cell_type": "code",
   "execution_count": 138,
   "metadata": {},
   "outputs": [],
   "source": [
    "#buiding model\n",
    "model = Sequential()\n",
    "\n",
    "model.add(Embedding(input_dim=vocab_dictionary,\n",
    "                    output_dim=embedding_size,\n",
    "                   input_length=max_seq_len))\n",
    "\n",
    "model.add(Dropout(0.2))\n",
    "\n",
    "model.add(Bidirectional(LSTM(units=100,\n",
    "                             dropout=0.4, \n",
    "                             recurrent_dropout=0.3,\n",
    "                             kernel_regularizer=l2(0.02),\n",
    "                             recurrent_regularizer=l2(0.02),\n",
    "                             return_sequences=True)))\n",
    "\n",
    "model.add(Bidirectional(LSTM(units=50,\n",
    "                             dropout=0.2, \n",
    "                             recurrent_dropout=0.2,\n",
    "                             kernel_regularizer=l2(0.02),\n",
    "                             recurrent_regularizer=l2(0.02),\n",
    "                             return_sequences=False)))\n",
    "\n",
    "# model.add(Dense(units=hidden_dims,\n",
    "#                activation='relu',\n",
    "#                kernel_regularizer=l2(0.1)))\n",
    "\n",
    "# model.add(Dropout(0.2))\n",
    "\n",
    "model.add(Dense(units=6,\n",
    "               activation='softmax'))"
   ]
  },
  {
   "cell_type": "code",
   "execution_count": 139,
   "metadata": {},
   "outputs": [
    {
     "name": "stdout",
     "output_type": "stream",
     "text": [
      "_________________________________________________________________\n",
      "Layer (type)                 Output Shape              Param #   \n",
      "=================================================================\n",
      "embedding_28 (Embedding)     (None, 20, 300)           300000    \n",
      "_________________________________________________________________\n",
      "dropout_44 (Dropout)         (None, 20, 300)           0         \n",
      "_________________________________________________________________\n",
      "bidirectional_41 (Bidirectio (None, 20, 200)           320800    \n",
      "_________________________________________________________________\n",
      "bidirectional_42 (Bidirectio (None, 100)               100400    \n",
      "_________________________________________________________________\n",
      "dense_43 (Dense)             (None, 6)                 606       \n",
      "=================================================================\n",
      "Total params: 721,806\n",
      "Trainable params: 721,806\n",
      "Non-trainable params: 0\n",
      "_________________________________________________________________\n",
      "None\n"
     ]
    }
   ],
   "source": [
    "#compile model\n",
    "model.compile(loss='categorical_crossentropy',\n",
    "             optimizer='adam',\n",
    "             metrics=['accuracy'])\n",
    "print(model.summary())"
   ]
  },
  {
   "cell_type": "code",
   "execution_count": 140,
   "metadata": {
    "scrolled": false
   },
   "outputs": [
    {
     "name": "stdout",
     "output_type": "stream",
     "text": [
      "Train on 4761 samples, validate on 1191 samples\n",
      "Epoch 1/10\n",
      "4761/4761 [==============================] - 43s 9ms/step - loss: 6.9818 - acc: 0.2668 - val_loss: 2.5808 - val_acc: 0.4509\n",
      "Epoch 2/10\n",
      "4761/4761 [==============================] - 15s 3ms/step - loss: 1.4936 - acc: 0.5879 - val_loss: 0.9795 - val_acc: 0.6969\n",
      "Epoch 3/10\n",
      "4761/4761 [==============================] - 17s 4ms/step - loss: 0.7572 - acc: 0.7614 - val_loss: 0.7276 - val_acc: 0.7632\n",
      "Epoch 4/10\n",
      "4761/4761 [==============================] - 15s 3ms/step - loss: 0.5597 - acc: 0.8294 - val_loss: 0.6302 - val_acc: 0.7809\n",
      "Epoch 5/10\n",
      "4761/4761 [==============================] - 15s 3ms/step - loss: 0.4580 - acc: 0.8664 - val_loss: 0.6730 - val_acc: 0.7884\n",
      "Epoch 6/10\n",
      "4761/4761 [==============================] - 16s 3ms/step - loss: 0.3889 - acc: 0.8822 - val_loss: 0.6003 - val_acc: 0.8111\n",
      "Epoch 7/10\n",
      "4761/4761 [==============================] - 14s 3ms/step - loss: 0.3388 - acc: 0.8994 - val_loss: 0.6040 - val_acc: 0.8102\n",
      "Epoch 8/10\n",
      "4761/4761 [==============================] - 14s 3ms/step - loss: 0.3001 - acc: 0.9080 - val_loss: 0.6469 - val_acc: 0.7976\n",
      "Epoch 9/10\n",
      "4761/4761 [==============================] - 15s 3ms/step - loss: 0.2759 - acc: 0.9172 - val_loss: 0.6196 - val_acc: 0.8094\n",
      "Epoch 10/10\n",
      "4761/4761 [==============================] - 14s 3ms/step - loss: 0.2537 - acc: 0.9233 - val_loss: 0.6038 - val_acc: 0.8136\n"
     ]
    }
   ],
   "source": [
    "#model fitting\n",
    "history = model.fit(x, y,\n",
    "                    batch_size=batch_size,\n",
    "                    epochs=epochs,\n",
    "                    validation_split=0.2)"
   ]
  },
  {
   "cell_type": "code",
   "execution_count": 141,
   "metadata": {},
   "outputs": [
    {
     "data": {
      "text/plain": [
       "Text(0.5,1,'Train vs Validation Loss')"
      ]
     },
     "execution_count": 141,
     "metadata": {},
     "output_type": "execute_result"
    },
    {
     "data": {
      "image/png": "[encoded data removed]",
      "text/plain": [
       "<Figure size 432x288 with 1 Axes>"
      ]
     },
     "metadata": {},
     "output_type": "display_data"
    }
   ],
   "source": [
    "plt.plot(history.history['loss'])\n",
    "plt.plot(history.history['val_loss'])\n",
    "plt.xlabel('epochs')\n",
    "plt.ylabel('model loss')\n",
    "plt.legend(['train set', 'validation set'], loc='best')\n",
    "plt.title('Train vs Validation Loss')"
   ]
  },
  {
   "cell_type": "code",
   "execution_count": 142,
   "metadata": {},
   "outputs": [
    {
     "data": {
      "text/plain": [
       "Text(0.5,1,'Train vs Validation Accuracy')"
      ]
     },
     "execution_count": 142,
     "metadata": {},
     "output_type": "execute_result"
    },
    {
     "data": {
      "image/png": "[encoded data removed]",
      "text/plain": [
       "<Figure size 432x288 with 1 Axes>"
      ]
     },
     "metadata": {},
     "output_type": "display_data"
    }
   ],
   "source": [
    "plt.plot(history.history['acc'])\n",
    "plt.plot(history.history['val_acc'])\n",
    "plt.xlabel('epochs')\n",
    "plt.ylabel('model accuracy')\n",
    "plt.legend(['train set', 'validation set'], loc='best')\n",
    "plt.title('Train vs Validation Accuracy')"
   ]
  },
  {
   "cell_type": "code",
   "execution_count": null,
   "metadata": {
    "collapsed": true
   },
   "outputs": [],
   "source": []
  }
 ],
 "metadata": {
  "kernelspec": {
   "display_name": "Python 3",
   "language": "python",
   "name": "python3"
  },
  "language_info": {
   "codemirror_mode": {
    "name": "ipython",
    "version": 3
   },
   "file_extension": ".py",
   "mimetype": "text/x-python",
   "name": "python",
   "nbconvert_exporter": "python",
   "pygments_lexer": "ipython3",
   "version": "3.5.4"
  }
 },
 "nbformat": 4,
 "nbformat_minor": 2
}
