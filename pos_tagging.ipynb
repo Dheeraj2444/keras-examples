{
 "cells": [
  {
   "cell_type": "markdown",
   "metadata": {},
   "source": [
    "# Part-of-Speech (POS) Tagging\n",
    "\n",
    "Implementation of POS tagging on the Penn treebank corpus using neural networks in Keras"
   ]
  },
  {
   "cell_type": "code",
   "execution_count": 208,
   "metadata": {
    "collapsed": true
   },
   "outputs": [],
   "source": [
    "#import libraries\n",
    "import numpy as np\n",
    "import nltk\n",
    "from nltk.corpus import treebank\n",
    "import keras\n",
    "from keras.models import Sequential\n",
    "from keras.layers import Dense, Dropout, Activation\n",
    "from keras import regularizers\n",
    "from keras.utils import np_utils\n",
    "from keras.utils import plot_model\n",
    "from sklearn.feature_extraction import DictVectorizer\n",
    "from sklearn.preprocessing import LabelEncoder\n",
    "import matplotlib.pyplot as plt\n",
    "plt.style.use('ggplot')\n",
    "%matplotlib inline"
   ]
  },
  {
   "cell_type": "code",
   "execution_count": 122,
   "metadata": {},
   "outputs": [
    {
     "name": "stdout",
     "output_type": "stream",
     "text": [
      "[nltk_data] Downloading package treebank to /Users/peace/nltk_data...\n",
      "[nltk_data]   Package treebank is already up-to-date!\n"
     ]
    }
   ],
   "source": [
    "#download treebank corpus\n",
    "nltk.download('treebank')\n",
    "np.random.seed(1)"
   ]
  },
  {
   "cell_type": "markdown",
   "metadata": {},
   "source": [
    "### Language Model (tokens and pos-tags)"
   ]
  },
  {
   "cell_type": "code",
   "execution_count": 190,
   "metadata": {},
   "outputs": [
    {
     "data": {
      "text/plain": [
       "[[('Pierre', 'NNP'), ('Vinken', 'NNP'), (',', ','), ('61', 'CD'), ('years', 'NNS'), ('old', 'JJ'), (',', ','), ('will', 'MD'), ('join', 'VB'), ('the', 'DT'), ('board', 'NN'), ('as', 'IN'), ('a', 'DT'), ('nonexecutive', 'JJ'), ('director', 'NN'), ('Nov.', 'NNP'), ('29', 'CD'), ('.', '.')], [('Mr.', 'NNP'), ('Vinken', 'NNP'), ('is', 'VBZ'), ('chairman', 'NN'), ('of', 'IN'), ('Elsevier', 'NNP'), ('N.V.', 'NNP'), (',', ','), ('the', 'DT'), ('Dutch', 'NNP'), ('publishing', 'VBG'), ('group', 'NN'), ('.', '.')], ...]"
      ]
     },
     "execution_count": 190,
     "metadata": {},
     "output_type": "execute_result"
    }
   ],
   "source": [
    "#pos tagging sentences of treebank\n",
    "sentences = treebank.tagged_sents()\n",
    "sentences"
   ]
  },
  {
   "cell_type": "code",
   "execution_count": 134,
   "metadata": {
    "scrolled": true
   },
   "outputs": [
    {
     "data": {
      "text/plain": [
       "46"
      ]
     },
     "execution_count": 134,
     "metadata": {},
     "output_type": "execute_result"
    }
   ],
   "source": [
    "print('POS tags: ', set([pair[1] for sentence in sentences for pair in sentence]))\n",
    "print('Total POS tags: ', len(set([pair[1] for sentence in sentences for pair in sentence])))"
   ]
  },
  {
   "cell_type": "markdown",
   "metadata": {},
   "source": [
    "### Features Engineering"
   ]
  },
  {
   "cell_type": "markdown",
   "metadata": {},
   "source": [
    " There are in total 46 tags, thus our y label can have 46 possible outcomes.\n",
    " \n",
    " We will create feature vector corresponding to each word (token) in the sentence. For each token in a sentence, the feature set consists of following features:\n",
    " * **total_words**: length of the sentence it belongs to\n",
    " * **word**: token\n",
    " * **is_first**: boolean depending upon if the token is first word in the sentence or not\n",
    " * **is_last**: boolean depending upon if the token is last word in the sentence or not\n",
    " * **is_capitalized**: boolean depending upon if the first letter of token is a capital letter or not\n",
    " * **is_all_caps**: boolean depending upon if the token is capitalized or not\n",
    " * **is_all_lower**: boolean depending upon if the token is lower cased or not\n",
    " * **prefix-1**: first character of the token\n",
    " * **prefix-2**: first two characters of the token\n",
    " * **prefix-3**: first three characters of the token\n",
    " * **suffix-1**: last character of the token\n",
    " * **suffix-2**: last two characters of the token\n",
    " * **suffix-3**: last three characters of the token\n",
    " * **prev_word**: previous token, returns '' if it is the first token in the sentence\n",
    " * **next_word**: following token, returns '' if it is the last token in the sentence"
   ]
  },
  {
   "cell_type": "code",
   "execution_count": 191,
   "metadata": {},
   "outputs": [],
   "source": [
    "#feature creation\n",
    "def get_feature(sentence, idx):\n",
    "    word = sentence[idx]\n",
    "    \n",
    "    return {\n",
    "        'total_words': len(sentence),\n",
    "        'word': word,\n",
    "        'is_first': idx == 0,\n",
    "        'is_last': idx == len(sentence) - 1,\n",
    "        'is_capitalized': word[0].upper() == word[0],\n",
    "        'is_all_caps': word.upper() == word,\n",
    "        'is_all_lower': word.lower() == word,\n",
    "        'prefix-1': word[0],\n",
    "        'prefix-2': word[:2],\n",
    "        'prefix-3': word[:3],\n",
    "        'suffix-1': word[-1],\n",
    "        'suffix-2': word[-2:],\n",
    "        'suffix-3': word[-3:],\n",
    "        'prev_word': '' if idx == 0 else sentence[idx - 1],\n",
    "        'next_word': '' if idx == len(sentence) - 1 else sentence[idx + 1]\n",
    "    }"
   ]
  },
  {
   "cell_type": "code",
   "execution_count": 192,
   "metadata": {},
   "outputs": [],
   "source": [
    "#preparing dataset\n",
    "#extract words from (word,tag) pairs for a given sentence\n",
    "def get_word(sentence):\n",
    "        return [i[0] for i in sentence]\n",
    "\n",
    "#creating features(x) and labels(y) \n",
    "def get_dataset(sentences):\n",
    "    x, y = [], []\n",
    "    for sentence in sentences:\n",
    "        for idx, (word, tag) in enumerate(sentence):\n",
    "            x.append(get_feature(get_word(sentence), idx))\n",
    "            y.append(tag)\n",
    "    return x, y         "
   ]
  },
  {
   "cell_type": "markdown",
   "metadata": {},
   "source": [
    "Splitted the dataset into 80-20 train-test set"
   ]
  },
  {
   "cell_type": "markdown",
   "metadata": {},
   "source": [
    "### Train-Test Split"
   ]
  },
  {
   "cell_type": "code",
   "execution_count": 193,
   "metadata": {},
   "outputs": [],
   "source": [
    "#train test split\n",
    "split = int(len(sentences)*.8)\n",
    "train = sentences[: split]\n",
    "test = sentences[split: ]\n",
    "\n",
    "x_train, y_train = get_dataset(train)\n",
    "x_test, y_test = get_dataset(test)"
   ]
  },
  {
   "cell_type": "markdown",
   "metadata": {},
   "source": [
    "We need to vectorize the feature dictionary created for a given word above to make a input feature vectors for neural networks. Sklearn provides DictVectorizer class to convert a feature dictionary into a feature vector"
   ]
  },
  {
   "cell_type": "markdown",
   "metadata": {},
   "source": [
    "### Features Set Encoding"
   ]
  },
  {
   "cell_type": "code",
   "execution_count": 194,
   "metadata": {},
   "outputs": [],
   "source": [
    "#vectorizing x\n",
    "dict_vectorize = DictVectorizer(sparse=False)\n",
    "dict_vectorize.fit(x_train + x_test)\n",
    "\n",
    "x_train = dict_vectorize.transform(x_train)\n",
    "x_test = dict_vectorize.transform(x_test)"
   ]
  },
  {
   "cell_type": "markdown",
   "metadata": {},
   "source": [
    "We have our y labeled as strings of POS. We will have to make them categorical and then convert them into one-hot encodings"
   ]
  },
  {
   "cell_type": "markdown",
   "metadata": {},
   "source": [
    "### Labels Encoding"
   ]
  },
  {
   "cell_type": "code",
   "execution_count": 195,
   "metadata": {},
   "outputs": [
    {
     "name": "stdout",
     "output_type": "stream",
     "text": [
      "[11 17 15 ... 15 20  7]\n"
     ]
    }
   ],
   "source": [
    "#encoding y labels\n",
    "label_encoder = LabelEncoder()\n",
    "label_encoder.fit(y_train + y_test)\n",
    "y_train = label_encoder.transform(y_train)\n",
    "y_test = label_encoder.transform(y_test)\n",
    "print(y_test)"
   ]
  },
  {
   "cell_type": "code",
   "execution_count": 197,
   "metadata": {},
   "outputs": [],
   "source": [
    "y_train = np_utils.to_categorical(y_train)\n",
    "y_test = np_utils.to_categorical(y_test)"
   ]
  },
  {
   "cell_type": "code",
   "execution_count": 251,
   "metadata": {},
   "outputs": [
    {
     "name": "stdout",
     "output_type": "stream",
     "text": [
      "x_train shape:  (80637, 44232)\n",
      "y_train shape:  (80637, 46)\n",
      "x_test shape:  (20039, 44232)\n",
      "y_test shape:  (20039, 46)\n"
     ]
    }
   ],
   "source": [
    "#visualizing created vectors'shapes\n",
    "print('x_train shape: ', x_train.shape)\n",
    "print('y_train shape: ', y_train.shape)\n",
    "print('x_test shape: ', x_test.shape)\n",
    "print('y_test shape: ', y_test.shape)"
   ]
  },
  {
   "cell_type": "markdown",
   "metadata": {},
   "source": [
    "### Model Architecture"
   ]
  },
  {
   "cell_type": "code",
   "execution_count": 246,
   "metadata": {},
   "outputs": [
    {
     "name": "stdout",
     "output_type": "stream",
     "text": [
      "Train on 64509 samples, validate on 16128 samples\n",
      "Epoch 1/7\n",
      "64509/64509 [==============================] - 252s 4ms/step - loss: 3.6582 - acc: 0.7384 - val_loss: 0.6830 - val_acc: 0.8963\n",
      "Epoch 2/7\n",
      "64509/64509 [==============================] - 250s 4ms/step - loss: 0.5119 - acc: 0.9172 - val_loss: 0.4554 - val_acc: 0.9227\n",
      "Epoch 3/7\n",
      "64509/64509 [==============================] - 304s 5ms/step - loss: 0.3547 - acc: 0.9454 - val_loss: 0.3632 - val_acc: 0.9359\n",
      "Epoch 4/7\n",
      "64509/64509 [==============================] - 258s 4ms/step - loss: 0.2788 - acc: 0.9593 - val_loss: 0.3065 - val_acc: 0.9416\n",
      "Epoch 5/7\n",
      "64509/64509 [==============================] - 255s 4ms/step - loss: 0.2330 - acc: 0.9674 - val_loss: 0.3129 - val_acc: 0.9366\n",
      "Epoch 6/7\n",
      "64509/64509 [==============================] - 256s 4ms/step - loss: 0.2045 - acc: 0.9728 - val_loss: 0.2639 - val_acc: 0.9464\n",
      "Epoch 7/7\n",
      "64509/64509 [==============================] - 249s 4ms/step - loss: 0.1736 - acc: 0.9774 - val_loss: 0.2742 - val_acc: 0.9430\n",
      "dict_keys(['val_acc', 'loss', 'acc', 'val_loss'])\n"
     ]
    }
   ],
   "source": [
    "#define model architecture using keras\n",
    "model = Sequential()\n",
    "model.add(Dense(units=512, input_dim=x_train.shape[1], activation='relu'))\n",
    "model.add(Dropout(0.3))\n",
    "model.add(Dense(units=512, activation='relu', kernel_regularizer=regularizers.l2(0.05)))\n",
    "model.add(Dropout(0.2))\n",
    "model.add(Dense(units=y_train.shape[1], activation='softmax'))\n",
    "\n",
    "model.compile(loss='categorical_crossentropy', optimizer='adam', metrics=['accuracy'])\n",
    "history = model.fit(x_train, y_train, validation_split=0.2, epochs=7, batch_size=256, verbose=1)\n",
    "print(history.history.keys())"
   ]
  },
  {
   "cell_type": "markdown",
   "metadata": {},
   "source": [
    "### Model Visualization"
   ]
  },
  {
   "cell_type": "code",
   "execution_count": 247,
   "metadata": {},
   "outputs": [
    {
     "data": {
      "text/plain": [
       "Text(0.5,1,'Training vs Validation Loss')"
      ]
     },
     "execution_count": 247,
     "metadata": {},
     "output_type": "execute_result"
    },
    {
     "data": {
      "image/png": "[encoded data removed]",
      "text/plain": [
       "<Figure size 432x288 with 1 Axes>"
      ]
     },
     "metadata": {},
     "output_type": "display_data"
    }
   ],
   "source": [
    "#visualizing train and validation loss\n",
    "plt.plot(history.history['loss'])\n",
    "plt.plot(history.history['val_loss'])\n",
    "plt.xlabel('epochs')\n",
    "plt.ylabel('loss')\n",
    "plt.legend(['train set', 'validation set'], loc='best')\n",
    "plt.title('Training vs Validation Loss')"
   ]
  },
  {
   "cell_type": "code",
   "execution_count": 248,
   "metadata": {},
   "outputs": [
    {
     "data": {
      "text/plain": [
       "Text(0.5,1,'Training vs Validation Accuarcy')"
      ]
     },
     "execution_count": 248,
     "metadata": {},
     "output_type": "execute_result"
    },
    {
     "data": {
      "image/png": "[encoded data removed]",
      "text/plain": [
       "<Figure size 432x288 with 1 Axes>"
      ]
     },
     "metadata": {},
     "output_type": "display_data"
    }
   ],
   "source": [
    "#visualizing train and validation Accuracy\n",
    "plt.plot(history.history['acc'])\n",
    "plt.plot(history.history['val_acc'])\n",
    "plt.xlabel('epochs')\n",
    "plt.ylabel('Accuracy')\n",
    "plt.legend(['train set', 'validation set'], loc='best')\n",
    "plt.title('Training vs Validation Accuarcy')"
   ]
  },
  {
   "cell_type": "markdown",
   "metadata": {},
   "source": [
    "### Model Evaluation"
   ]
  },
  {
   "cell_type": "code",
   "execution_count": 250,
   "metadata": {
    "scrolled": true
   },
   "outputs": [
    {
     "name": "stdout",
     "output_type": "stream",
     "text": [
      "20039/20039 [==============================] - 42s 2ms/step\n"
     ]
    }
   ],
   "source": [
    "#evalute prediction\n",
    "test_loss, accuracy = model.evaluate(x_test, y_test)"
   ]
  },
  {
   "cell_type": "code",
   "execution_count": 240,
   "metadata": {},
   "outputs": [
    {
     "name": "stdout",
     "output_type": "stream",
     "text": [
      "0.9279405159938121\n"
     ]
    }
   ],
   "source": [
    "print(accuracy)"
   ]
  }
 ],
 "metadata": {
  "kernelspec": {
   "display_name": "Python 3",
   "language": "python",
   "name": "python3"
  },
  "language_info": {
   "codemirror_mode": {
    "name": "ipython",
    "version": 3
   },
   "file_extension": ".py",
   "mimetype": "text/x-python",
   "name": "python",
   "nbconvert_exporter": "python",
   "pygments_lexer": "ipython3",
   "version": "3.5.4"
  }
 },
 "nbformat": 4,
 "nbformat_minor": 2
}
